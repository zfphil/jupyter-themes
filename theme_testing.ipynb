{
 "cells": [
  {
   "cell_type": "markdown",
   "metadata": {},
   "source": [
    "### Run the cell below (shift+enter)"
   ]
  },
  {
   "cell_type": "code",
   "execution_count": 5,
   "metadata": {
    "ExecuteTime": {
     "end_time": "2018-10-10T23:49:22.598419Z",
     "start_time": "2018-10-10T23:49:22.594885Z"
    },
    "scrolled": true
   },
   "outputs": [
    {
     "name": "stdout",
     "output_type": "stream",
     "text": [
      "The autoreload extension is already loaded. To reload it, use:\n",
      "  %reload_ext autoreload\n"
     ]
    }
   ],
   "source": [
    "%load_ext autoreload\n",
    "%autoreload 2\n",
    "\n",
    "from jupyterthemes import get_themes\n",
    "import jupyterthemes as jt\n",
    "from jupyterthemes.stylefx import set_nb_theme\n",
    "import jupyterthemes.stylefx as stylefx\n",
    "import os"
   ]
  },
  {
   "cell_type": "markdown",
   "metadata": {},
   "source": [
    "### Compile and Set Custom Theme"
   ]
  },
  {
   "cell_type": "code",
   "execution_count": 6,
   "metadata": {},
   "outputs": [
    {
     "name": "stdout",
     "output_type": "stream",
     "text": [
      "rm: /Users/zfphil/.jupyter-themes/styles/compiled/monokai.css/: Not a directory\r\n"
     ]
    }
   ],
   "source": [
    "!rm -r /Users/zfphil/.jupyter-themes/styles/compiled/monokai.css/"
   ]
  },
  {
   "cell_type": "code",
   "execution_count": 7,
   "metadata": {},
   "outputs": [
    {
     "name": "stdout",
     "output_type": "stream",
     "text": [
      "monokai\n",
      "styles/monokai\n"
     ]
    }
   ],
   "source": [
    "jt.install_theme('monokai')"
   ]
  },
  {
   "cell_type": "code",
   "execution_count": null,
   "metadata": {
    "ExecuteTime": {
     "end_time": "2018-10-10T23:36:16.357165Z",
     "start_time": "2018-10-10T23:36:16.348838Z"
    }
   },
   "outputs": [],
   "source": [
    "for theme_name in stylefx.get_themes():\n",
    "    stylefx.reset_default()\n",
    "    s = stylefx.style_layout(theme_name, theme=theme_name)\n",
    "    \n",
    "    # Generate css from less\n",
    "    css = stylefx.less_to_css(s)\n",
    "    \n",
    "    # Write css file\n",
    "    stylefx.write_final_css(css)\n",
    "#     outfile = \"./styles/compiled/%s.css\" % theme_name\n",
    "\n",
    "#     if not os.path.exists(outfile):\n",
    "#         os.makedirs(os.path.splitext(outfile)[0])\n",
    "\n",
    "#     with open(outfile, \"w+\") as text_file:\n",
    "#         text_file.write(s)"
   ]
  },
  {
   "cell_type": "markdown",
   "metadata": {},
   "source": [
    "### Uncomment and run cell to select a theme"
   ]
  },
  {
   "cell_type": "code",
   "execution_count": null,
   "metadata": {
    "ExecuteTime": {
     "end_time": "2018-10-10T23:49:42.114469Z",
     "start_time": "2018-10-10T23:49:42.107744Z"
    }
   },
   "outputs": [],
   "source": [
    "# uncomment and execute line to try a new theme\n",
    "# set_nb_theme('monokai_black')\n",
    "set_nb_theme('chesterish')\n",
    "# set_nb_theme('grade3')\n",
    "# set_nb_theme('oceans16')\n",
    "# set_nb_theme('solarizedl')\n",
    "# set_nb_theme('solarizedd')\n",
    "# set_nb_theme('monokai')"
   ]
  },
  {
   "cell_type": "code",
   "execution_count": null,
   "metadata": {
    "ExecuteTime": {
     "end_time": "2018-10-10T23:49:47.746238Z",
     "start_time": "2018-10-10T23:49:47.738640Z"
    }
   },
   "outputs": [],
   "source": [
    "# uncomment and execute line to try a new theme\n",
    "# set_nb_theme('monokai_black')\n",
    "# set_nb_theme('chesterish')\n",
    "set_nb_theme('grade3')\n",
    "# set_nb_theme('oceans16')\n",
    "set_nb_theme('solarizedl')\n",
    "# set_nb_theme('solarizedd')\n",
    "# set_nb_theme('monokai')"
   ]
  },
  {
   "cell_type": "markdown",
   "metadata": {},
   "source": [
    "### Test it out by writing some code"
   ]
  },
  {
   "cell_type": "code",
   "execution_count": null,
   "metadata": {},
   "outputs": [],
   "source": []
  }
 ],
 "metadata": {
  "kernelspec": {
   "display_name": "Python 3",
   "language": "python",
   "name": "python3"
  },
  "language_info": {
   "codemirror_mode": {
    "name": "ipython",
    "version": 3
   },
   "file_extension": ".py",
   "mimetype": "text/x-python",
   "name": "python",
   "nbconvert_exporter": "python",
   "pygments_lexer": "ipython3",
   "version": "3.7.0"
  }
 },
 "nbformat": 4,
 "nbformat_minor": 1
}
